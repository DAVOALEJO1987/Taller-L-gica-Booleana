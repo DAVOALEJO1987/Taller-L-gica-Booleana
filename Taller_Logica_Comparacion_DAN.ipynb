{
 "cells": [
  {
   "cell_type": "markdown",
   "id": "6c3776a8",
   "metadata": {},
   "source": [
    "# Taller práctico: Lógica booleana vs. Árbol de decisión\n",
    "**Autor:** Alejandro Narváez  \n",
    "**Fecha de generación automática:** 2025-06-29 17:58\n",
    "\n",
    "En este cuaderno se compara una regla lógica (dos versiones) con un modelo supervisado (`DecisionTreeClassifier`) para la aprobación de tarjetas de crédito.\n",
    "Puedes reemplazar la sección de generación de datos sintéticos con tu propio archivo `datos_tarjeta_credito.xlsx` o un CSV en tu Google Drive."
   ]
  },
  {
   "cell_type": "markdown",
   "id": "2b9981e0",
   "metadata": {},
   "source": [
    "## 1. Instalación e importación de librerías"
   ]
  },
  {
   "cell_type": "code",
   "execution_count": null,
   "id": "1f8f764c",
   "metadata": {},
   "outputs": [],
   "source": [
    "!pip install -q scikit-learn pandas"
   ]
  },
  {
   "cell_type": "code",
   "execution_count": null,
   "id": "263d85ee",
   "metadata": {},
   "outputs": [],
   "source": [
    "import pandas as pd\n",
    "import numpy as np\n",
    "from sklearn.model_selection import train_test_split\n",
    "from sklearn.tree import DecisionTreeClassifier\n",
    "from sklearn.metrics import accuracy_score, confusion_matrix\n",
    "import matplotlib.pyplot as plt\n",
    "import seaborn as sns  # solo para visualización rápida (opcional)\n",
    "sns.set(style='whitegrid')"
   ]
  },
  {
   "cell_type": "markdown",
   "id": "ae966d51",
   "metadata": {},
   "source": [
    "## 2. Carga o generación de datos\n",
    "Si ya tienes un archivo `datos_tarjeta_credito.xlsx` con las columnas `Ingreso_Alto`, `Historial_Credito`, `Empleo_Estable`, `Edad`, `Tarjeta_Aprobada`, comenta o elimina la celda de datos sintéticos y descomenta la celda de carga."
   ]
  },
  {
   "cell_type": "code",
   "execution_count": null,
   "id": "e57f3aa9",
   "metadata": {},
   "outputs": [],
   "source": [
    "# --- Opción A: cargar tu propio archivo\n",
    "# from google.colab import drive\n",
    "# drive.mount('/content/drive')\n",
    "# ruta = '/content/drive/MyDrive/datos_tarjeta_credito.xlsx'\n",
    "# datos = pd.read_excel(ruta)\n"
   ]
  },
  {
   "cell_type": "code",
   "execution_count": null,
   "id": "f29a6ecd",
   "metadata": {},
   "outputs": [],
   "source": [
    "# --- Opción B: generar dataset sintético para pruebas ---\n",
    "np.random.seed(42)\n",
    "n = 200\n",
    "datos = pd.DataFrame({\n",
    "    'Ingreso_Alto': np.random.choice([True, False], n),\n",
    "    'Historial_Credito': np.random.choice([True, False], n),\n",
    "    'Empleo_Estable': np.random.choice([True, False], n),\n",
    "    'Edad': np.random.randint(18, 60, n)\n",
    "})\n",
    "# Definimos la etiqueta de forma semi-aleatoria (puedes ajustar la lógica)\n",
    "datos['Tarjeta_Aprobada'] = (\n",
    "    (datos['Ingreso_Alto'] & datos['Historial_Credito']) |\n",
    "    (datos['Empleo_Estable'] & (datos['Edad'] > 30))\n",
    ").map({True: 'Aprobada', False: 'Rechazada'})\n",
    "\n",
    "datos.head()"
   ]
  },
  {
   "cell_type": "markdown",
   "id": "f2083623",
   "metadata": {},
   "source": [
    "## 3. División de datos y entrenamiento"
   ]
  },
  {
   "cell_type": "code",
   "execution_count": null,
   "id": "35757b8b",
   "metadata": {},
   "outputs": [],
   "source": [
    "X = datos[['Ingreso_Alto', 'Historial_Credito', 'Empleo_Estable', 'Edad']]\n",
    "y = datos['Tarjeta_Aprobada']\n",
    "X_train, X_test, y_train, y_test = train_test_split(X, y, test_size=0.3, random_state=0)\n",
    "\n",
    "arbol = DecisionTreeClassifier(random_state=0, max_depth=4)\n",
    "arbol.fit(X_train, y_train)\n",
    "\n",
    "pred_test = arbol.predict(X_test)\n",
    "print('Precisión en test:', accuracy_score(y_test, pred_test))"
   ]
  },
  {
   "cell_type": "markdown",
   "id": "4a4f964b",
   "metadata": {},
   "source": [
    "## 4. Definición de reglas lógicas"
   ]
  },
  {
   "cell_type": "code",
   "execution_count": null,
   "id": "3e668f13",
   "metadata": {},
   "outputs": [],
   "source": [
    "def modelo_decision_v1(ingreso_alto, historial_credito, empleo_estable, edad):\n",
    "    # Lógica original: (x AND NOT y) OR (y AND NOT z)\n",
    "    decision = (ingreso_alto and not historial_credito) or (historial_credito and not empleo_estable)\n",
    "    return 'Aprobada' if decision else 'Rechazada'\n",
    "\n",
    "def modelo_decision_v2(ingreso_alto, historial_credito, empleo_estable, edad, umbral_edad=25):\n",
    "    # Versión ampliada con criterio de edad\n",
    "    decision_base = (ingreso_alto and not historial_credito) or (historial_credito and not empleo_estable)\n",
    "    decision = decision_base and (edad >= umbral_edad)\n",
    "    return 'Aprobada' if decision else 'Rechazada'"
   ]
  },
  {
   "cell_type": "markdown",
   "id": "deb9d9ad",
   "metadata": {},
   "source": [
    "## 5. Comparación entre el modelo supervisado y las reglas lógicas"
   ]
  },
  {
   "cell_type": "code",
   "execution_count": null,
   "id": "dca0ebe9",
   "metadata": {},
   "outputs": [],
   "source": [
    "def comparar_modelos(df, preds_supervisado):\n",
    "    df = df.copy().reset_index(drop=True)\n",
    "    df['Pred_Supervisado'] = preds_supervisado\n",
    "    df['Logica_v1'] = df.apply(lambda r: modelo_decision_v1(\n",
    "        r['Ingreso_Alto'], r['Historial_Credito'], r['Empleo_Estable'], r['Edad']), axis=1)\n",
    "    df['Logica_v2'] = df.apply(lambda r: modelo_decision_v2(\n",
    "        r['Ingreso_Alto'], r['Historial_Credito'], r['Empleo_Estable'], r['Edad']), axis=1)\n",
    "    df['Dif_Superv_vs_v1'] = df['Pred_Supervisado'] != df['Logica_v1']\n",
    "    df['Dif_v1_vs_v2']     = df['Logica_v1']        != df['Logica_v2']\n",
    "    return df\n",
    "\n",
    "resultado = comparar_modelos(X_test, pred_test)\n",
    "\n",
    "print('Discrepancias Árbol vs Lógica v1:', resultado['Dif_Superv_vs_v1'].sum())\n",
    "print('Cambios Lógica v1 -> v2:', resultado['Dif_v1_vs_v2'].sum())\n",
    "\n",
    "# Mostrar ejemplos\n",
    "resultado.query('Dif_Superv_vs_v1').head()"
   ]
  },
  {
   "cell_type": "markdown",
   "id": "e9ba8f4b",
   "metadata": {},
   "source": [
    "## 6. Matriz de confusión del árbol"
   ]
  },
  {
   "cell_type": "code",
   "execution_count": null,
   "id": "689e0305",
   "metadata": {},
   "outputs": [],
   "source": [
    "cm = confusion_matrix(y_test, pred_test, labels=['Aprobada', 'Rechazada'])\n",
    "fig, ax = plt.subplots(figsize=(4,4))\n",
    "sns.heatmap(cm, annot=True, fmt='d', xticklabels=['Aprobada','Rechazada'], yticklabels=['Aprobada','Rechazada'], ax=ax)\n",
    "ax.set_xlabel('Predicción'); ax.set_ylabel('Real'); ax.set_title('Matriz de Confusión');\n",
    "plt.show()"
   ]
  },
  {
   "cell_type": "markdown",
   "id": "1f210144",
   "metadata": {},
   "source": [
    "## 7. Conclusiones\n",
    "- **modelo_decision_v1** es una regla fija que puede no capturar todos los patrones.\n",
    "- **modelo_decision_v2** restringe con un umbral de edad, modulando el riesgo.\n",
    "- El **árbol de decisión** aprende relaciones más complejas, aunque podemos afinar hiperparámetros.\n",
    "\n",
    "Experimenta cambiando el `umbral_edad`, la estructura del árbol (`max_depth`), o integrando otras variables para ver cómo varía la precisión y las discrepancias."
   ]
  }
 ],
 "metadata": {},
 "nbformat": 4,
 "nbformat_minor": 5
}
